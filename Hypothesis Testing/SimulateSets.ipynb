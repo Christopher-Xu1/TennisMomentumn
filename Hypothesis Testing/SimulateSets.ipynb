{
 "cells": [
  {
   "cell_type": "code",
   "execution_count": 49,
   "metadata": {},
   "outputs": [],
   "source": [
    "from Set_Tree import *\n",
    "import matplotlib.pyplot as plt\n",
    "# Construct the tree\n",
    "binary_tree = build_set_tree()\n",
    "\n",
    "def visualize_avg_points(avg_points_per_step):\n",
    "    plt.figure(figsize=(10, 6))\n",
    "    if avg_points_per_step:\n",
    "        plt.plot(range(len(avg_points_per_step)), avg_points_per_step, marker='o', linestyle='-', alpha=0.7)\n",
    "        plt.title(\"Average Points Scored Per Step\")\n",
    "        plt.xlabel(\"Steps\")\n",
    "        plt.ylabel(\"Average Points Scored\")\n",
    "    else:\n",
    "        plt.text(0.5, 0.5, \"No data to plot\", fontsize=12, ha='center')\n",
    "    plt.show()\n"
   ]
  },
  {
   "cell_type": "code",
   "execution_count": 50,
   "metadata": {},
   "outputs": [
    {
     "ename": "ValueError",
     "evalue": "not enough values to unpack (expected 3, got 2)",
     "output_type": "error",
     "traceback": [
      "\u001b[0;31m---------------------------------------------------------------------------\u001b[0m",
      "\u001b[0;31mValueError\u001b[0m                                Traceback (most recent call last)",
      "Cell \u001b[0;32mIn[50], line 3\u001b[0m\n\u001b[1;32m      1\u001b[0m binary_tree \u001b[38;5;241m=\u001b[39m build_set_tree()\n\u001b[0;32m----> 3\u001b[0m results, avg_points_per_step, debug_path \u001b[38;5;241m=\u001b[39m simulate_sets(binary_tree)\n\u001b[1;32m      4\u001b[0m \u001b[38;5;28mprint\u001b[39m(\u001b[38;5;124m\"\u001b[39m\u001b[38;5;124mSimulation Results:\u001b[39m\u001b[38;5;124m\"\u001b[39m, results)\n\u001b[1;32m      5\u001b[0m \u001b[38;5;28mprint\u001b[39m(\u001b[38;5;124m\"\u001b[39m\u001b[38;5;124mDebug Path (First Simulation):\u001b[39m\u001b[38;5;124m\"\u001b[39m, debug_path)\n",
      "\u001b[0;31mValueError\u001b[0m: not enough values to unpack (expected 3, got 2)"
     ]
    }
   ],
   "source": [
    "binary_tree = build_set_tree()\n",
    "\n",
    "results, avg_points_per_step, debug_path = simulate_sets(binary_tree)\n",
    "print(\"Simulation Results:\", results)\n",
    "print(\"Debug Path (First Simulation):\", debug_path)\n",
    "\n",
    "visualize_avg_points(avg_points_per_step)\n"
   ]
  }
 ],
 "metadata": {
  "kernelspec": {
   "display_name": "Python 3",
   "language": "python",
   "name": "python3"
  },
  "language_info": {
   "codemirror_mode": {
    "name": "ipython",
    "version": 3
   },
   "file_extension": ".py",
   "mimetype": "text/x-python",
   "name": "python",
   "nbconvert_exporter": "python",
   "pygments_lexer": "ipython3",
   "version": "3.12.4"
  }
 },
 "nbformat": 4,
 "nbformat_minor": 2
}
