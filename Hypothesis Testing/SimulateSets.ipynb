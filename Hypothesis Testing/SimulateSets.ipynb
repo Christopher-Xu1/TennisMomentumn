{
 "cells": [
  {
   "cell_type": "code",
   "execution_count": 11,
   "metadata": {},
   "outputs": [
    {
     "name": "stdout",
     "output_type": "stream",
     "text": [
      "Simulation Results: {'WIN': 58, 'LOSE': 63}\n"
     ]
    }
   ],
   "source": [
    "from Set_Tree import *\n",
    "\n",
    "# Construct the tree\n",
    "binary_tree = build_set_tree()\n",
    "\n",
    "# Run simulations and display results\n",
    "results = simulate_sets(binary_tree)\n",
    "print(\"Simulation Results:\", results)\n"
   ]
  }
 ],
 "metadata": {
  "kernelspec": {
   "display_name": "Python 3",
   "language": "python",
   "name": "python3"
  },
  "language_info": {
   "codemirror_mode": {
    "name": "ipython",
    "version": 3
   },
   "file_extension": ".py",
   "mimetype": "text/x-python",
   "name": "python",
   "nbconvert_exporter": "python",
   "pygments_lexer": "ipython3",
   "version": "3.12.4"
  }
 },
 "nbformat": 4,
 "nbformat_minor": 2
}
