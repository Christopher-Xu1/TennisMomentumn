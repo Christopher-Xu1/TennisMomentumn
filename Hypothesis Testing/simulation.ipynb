{
 "cells": [
  {
   "cell_type": "code",
   "execution_count": 23,
   "id": "d489e3ae-07a2-41b7-afac-48184b26685b",
   "metadata": {},
   "outputs": [
    {
     "name": "stdout",
     "output_type": "stream",
     "text": [
      "wins: 42 losses: 58\n"
     ]
    }
   ],
   "source": [
    "from LinkedBinaryTree import * \n",
    "import random\n",
    "import game_tree\n",
    "\n",
    "tree = LinkedBinaryTree()\n",
    "game_tree.construct_tree(tree)\n",
    "\n",
    "p = 0.5\n",
    "#weights are implicit\n",
    "#right pointer means p\n",
    "#left pointer means 1-p\n",
    "\n",
    "pointer = tree.root\n",
    "\n",
    "win_count = 0\n",
    "loss_count = 0\n",
    "for i in range(0, 100000):\n",
    "    n = random.choices([0,1], [p, 1-p])[0]\n",
    "\n",
    "    if n == 0:\n",
    "        pointer = pointer.right\n",
    "    elif n == 1:\n",
    "        pointer = pointer.left\n",
    "    \n",
    "    if pointer.data == \"WIN\":\n",
    "        win_count+=1 \n",
    "        pointer = tree.root\n",
    "    elif pointer.data == \"LOSE\":\n",
    "        loss_count +=1 \n",
    "        pointer = tree.root\n",
    "\n",
    "    if win_count + loss_count == 100:\n",
    "        break\n",
    "\n",
    "print(\"wins:\", win_count, \"losses:\", loss_count)\n",
    "\n"
   ]
  },
  {
   "cell_type": "code",
   "execution_count": null,
   "id": "58b5c8b7-552b-4bc0-83c1-71a9efe9c7bd",
   "metadata": {},
   "outputs": [],
   "source": []
  }
 ],
 "metadata": {
  "kernelspec": {
   "display_name": "Python 3 (ipykernel)",
   "language": "python",
   "name": "python3"
  },
  "language_info": {
   "codemirror_mode": {
    "name": "ipython",
    "version": 3
   },
   "file_extension": ".py",
   "mimetype": "text/x-python",
   "name": "python",
   "nbconvert_exporter": "python",
   "pygments_lexer": "ipython3",
   "version": "3.12.4"
  }
 },
 "nbformat": 4,
 "nbformat_minor": 5
}
